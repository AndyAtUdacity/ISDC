{
 "cells": [
  {
   "cell_type": "code",
   "execution_count": 176,
   "metadata": {
    "collapsed": false
   },
   "outputs": [],
   "source": [
    "from helpers import normalize, blur\n",
    "\n",
    "def initialize_beliefs(grid):\n",
    "    height = len(grid)\n",
    "    width = len(grid[0])\n",
    "    area = height * width\n",
    "    belief_per_cell = 1.0 / area\n",
    "    grid = []\n",
    "    for i in range(height):\n",
    "        row = []\n",
    "        for j in range(width):\n",
    "            row.append(belief_per_cell)\n",
    "        grid.append(row)\n",
    "    return grid\n",
    "\n",
    "def sense(color, grid, beliefs):\n",
    "    p_hit = 3.0\n",
    "    p_miss = 1.0\n",
    "    for i in range(len(grid)):\n",
    "        for j in range(len(grid[0])):\n",
    "            cell = grid[i][j]\n",
    "            if cell == color:\n",
    "                beliefs[i][j] *= p_hit\n",
    "            else:\n",
    "                beliefs[i][j] *= p_miss\n",
    "\n",
    "    return normalize(blurred)\n",
    "\n",
    "def move(dy, dx, beliefs):\n",
    "    height = len(G)\n",
    "    width = len(G[0])\n",
    "    new_G = [[0.0 for i in range(width)] for j in range(height)]\n",
    "    for i, row in enumerate(beliefs):\n",
    "        for j, cell in enumerate(row):\n",
    "            # now we want to spread this probability to other cells\n",
    "            new_i = (i + dy) % height\n",
    "            new_j = (j + dx) % width\n",
    "            new_G[int(new_i)][int(new_j)] = cell\n",
    "    return blur(new_G)"
   ]
  },
  {
   "cell_type": "code",
   "execution_count": null,
   "metadata": {
    "collapsed": true
   },
   "outputs": [],
   "source": []
  },
  {
   "cell_type": "code",
   "execution_count": 17,
   "metadata": {
    "collapsed": false
   },
   "outputs": [
    {
     "data": {
      "text/plain": [
       "[0.25, 0.25, 0.375, 0.125]"
      ]
     },
     "execution_count": 17,
     "metadata": {},
     "output_type": "execute_result"
    }
   ],
   "source": [
    "map(sum, beliefs)"
   ]
  },
  {
   "cell_type": "code",
   "execution_count": null,
   "metadata": {
    "collapsed": true
   },
   "outputs": [],
   "source": []
  }
 ],
 "metadata": {
  "kernelspec": {
   "display_name": "Python 2",
   "language": "python",
   "name": "python2"
  },
  "language_info": {
   "codemirror_mode": {
    "name": "ipython",
    "version": 2
   },
   "file_extension": ".py",
   "mimetype": "text/x-python",
   "name": "python",
   "nbconvert_exporter": "python",
   "pygments_lexer": "ipython2",
   "version": "2.7.10"
  }
 },
 "nbformat": 4,
 "nbformat_minor": 0
}
