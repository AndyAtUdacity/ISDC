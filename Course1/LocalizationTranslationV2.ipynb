{
 "cells": [
  {
   "cell_type": "code",
   "execution_count": null,
   "metadata": {
    "collapsed": true
   },
   "outputs": [],
   "source": [
    "def normalize(grid):\n",
    "    total = 0.0\n",
    "    for row in grid:\n",
    "        for cell in row:\n",
    "            total += cell\n",
    "    for i,row in enumerate(grid):\n",
    "        for j,cell in enumerate(row):\n",
    "            grid[i][j] = float(cell) / total\n",
    "    return grid\n",
    "\n",
    "\n",
    "def blur(grid):\n",
    "    height = len(grid)\n",
    "    width  = len(grid[0])\n",
    "    window = [\n",
    "            [0.05, 0.1, 0.05],\n",
    "            [0.1,  0.4, 0.1],\n",
    "            [0.05, 0.1, 0.05]\n",
    "        ]\n",
    "    new = [[0.0 for i in range(width)] for j in range(height)]\n",
    "    for i in range(height):\n",
    "        for j in range(width):\n",
    "            grid_val = grid[i][j]\n",
    "            for dx in range(-1,2):\n",
    "                for dy in range(-1,2):\n",
    "                    mult = window[dx+1][dy+1]\n",
    "                    new_i = (i + dy) % height\n",
    "                    new_j = (j + dx) % width\n",
    "                    new[new_i][new_j] += mult * grid_val\n",
    "    return new"
   ]
  },
  {
   "cell_type": "code",
   "execution_count": 33,
   "metadata": {
    "collapsed": false
   },
   "outputs": [],
   "source": [
    "from helpers import normalize, blur\n",
    "\n",
    "class Robot():\n",
    "    p_hit = 3.0\n",
    "    p_miss = 1.0\n",
    "    def __init__(self, grid):\n",
    "        self.grid = grid\n",
    "        self.height = len(grid)\n",
    "        self.width = len(grid[0])\n",
    "        self.beliefs = self.initialize_beliefs()\n",
    "        \n",
    "    def initialize_beliefs(self):\n",
    "        height = len(self.grid)\n",
    "        width  = len(self.grid[0])\n",
    "        area = height * width\n",
    "        belief_per_cell = 1.0 / area\n",
    "        return [[belief_per_cell for i in range(width)] for j in range(height)]\n",
    "        \n",
    "    def move(self, dy, dx ):\n",
    "        new_beliefs = [[0.0 for i in range(self.width)] for j in range(self.height)]\n",
    "        for i in range(self.height):\n",
    "            for j in range(self.width):\n",
    "                previous_belief = self.beliefs[i][j]\n",
    "                new_i = (i + dy) % self.height\n",
    "                new_j = (j + dx) % self.width\n",
    "                new_beliefs[int(new_i)][int(new_j)] = previous_belief\n",
    "        self.beliefs = blur(new_beliefs)\n",
    "        \n",
    "    def sense(self, color):\n",
    "        for i in range(self.height):\n",
    "            for j in range(self.width):\n",
    "                cell = self.grid[i][j]\n",
    "                if cell ==color:\n",
    "                    self.beliefs[i][j] *= self.p_hit\n",
    "                else:\n",
    "                    self.beliefs[i][j] *= self.p_miss\n",
    "        self.beliefs = normalize(self.beliefs)"
   ]
  },
  {
   "cell_type": "code",
   "execution_count": 34,
   "metadata": {
    "collapsed": true
   },
   "outputs": [],
   "source": [
    "r = Robot([['r','g'], ['g','r']])"
   ]
  },
  {
   "cell_type": "code",
   "execution_count": 45,
   "metadata": {
    "collapsed": false
   },
   "outputs": [],
   "source": [
    "r.sense('r')"
   ]
  },
  {
   "cell_type": "code",
   "execution_count": 48,
   "metadata": {
    "collapsed": false
   },
   "outputs": [
    {
     "data": {
      "text/plain": [
       "[[0.20018907289085935, 0.2998109271091408],\n",
       " [0.29981092710914076, 0.2001890728908593]]"
      ]
     },
     "execution_count": 48,
     "metadata": {},
     "output_type": "execute_result"
    }
   ],
   "source": [
    "r.beliefs"
   ]
  },
  {
   "cell_type": "code",
   "execution_count": 47,
   "metadata": {
    "collapsed": false
   },
   "outputs": [],
   "source": [
    "r.move(1,0)"
   ]
  },
  {
   "cell_type": "code",
   "execution_count": null,
   "metadata": {
    "collapsed": true
   },
   "outputs": [],
   "source": []
  }
 ],
 "metadata": {
  "kernelspec": {
   "display_name": "Python 2",
   "language": "python",
   "name": "python2"
  },
  "language_info": {
   "codemirror_mode": {
    "name": "ipython",
    "version": 2
   },
   "file_extension": ".py",
   "mimetype": "text/x-python",
   "name": "python",
   "nbconvert_exporter": "python",
   "pygments_lexer": "ipython2",
   "version": "2.7.10"
  }
 },
 "nbformat": 4,
 "nbformat_minor": 0
}
