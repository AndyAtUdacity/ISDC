{
 "cells": [
  {
   "cell_type": "code",
   "execution_count": 115,
   "metadata": {
    "collapsed": false
   },
   "outputs": [],
   "source": [
    "from copy import deepcopy\n",
    "class Matrix():\n",
    "    def __init__(self,matrix):\n",
    "        self._matrix = matrix\n",
    "    \n",
    "    @property\n",
    "    def dimX(self): return len(self._matrix[0])\n",
    "    \n",
    "    @property\n",
    "    def dimY(self): return len(self._matrix)\n",
    "    \n",
    "    @property\n",
    "    def T(self): return Matrix([[self._matrix[j][i] for j in range(len(self._matrix))] for i in range(len(self._matrix[0])) ])\n",
    "    \n",
    "    def __add__(self, other):\n",
    "        if self.dimX != other.dimX or self.dimY != other.dimY:\n",
    "            raise ValueError\n",
    "        g = [[v1 + v2 for v1, v2 in zip(r1, r2)] for r1, r2 in zip(self._matrix, other._matrix)]\n",
    "        return Matrix(g)\n",
    "    \n",
    "    def __mul__(self, other):\n",
    "        if type(other) != type(self):\n",
    "            g = [[v * other for v in r] for r in self._matrix]\n",
    "            return Matrix(g)\n",
    "        if self.dimX != other.dimY:\n",
    "            raise ValueError\n",
    "            return\n",
    "        new = [[0.0 for i in range(other.dimX)] for j in range(self.dimY)]\n",
    "        for i in range(self.dimY):\n",
    "            for j in range(other.dimX):\n",
    "                for k in range(self.dimX):\n",
    "                    new[i][j] += self[i][k] * other[k][j]\n",
    "        \n",
    "        return Matrix(new)\n",
    "                \n",
    "        \n",
    "    def __repr__(self):\n",
    "        s = \"\"\n",
    "        for r in self._matrix:\n",
    "            for v in r:\n",
    "                s += str(v)\n",
    "                s += '\\t'\n",
    "            s += '\\n'\n",
    "        return s\n",
    "\n",
    "    def __rmul__(self, other):\n",
    "        return self * other\n",
    "    \n",
    "    def __neg__(self):\n",
    "        return -1 * self\n",
    "    \n",
    "    def __sub__(self, other):\n",
    "        return self + -other\n",
    "    \n",
    "    def __getitem__(self,idx):\n",
    "        return self._matrix[idx]\n",
    "    \n",
    "    def _swap_rows(self,r1,r2):\n",
    "        temp = self._matrix[r1]\n",
    "        self._matrix[r1] = self._matrix[r2]\n",
    "        self._matrix[r2] = temp\n",
    "    \n",
    "    def invert(self):\n",
    "        for k in range(min(self.dimX, self.dimY)):\n",
    "            i_max = -9999999\n",
    "            for i in range(k, m):\n",
    "                if self[i][k] > i_max:\n",
    "                    i_max = self[i][k]\n",
    "            if self[i_max][k] == 0:\n",
    "                raise ValueError\n",
    "            self._swap_rows(k, i_max)\n",
    "        "
   ]
  },
  {
   "cell_type": "code",
   "execution_count": null,
   "metadata": {
    "collapsed": true
   },
   "outputs": [],
   "source": [
    "m = Matrix([\n",
    "        [1,2,3,4],\n",
    "        [5,6,7,8],\n",
    "        [9,1,2,3]\n",
    "    ])"
   ]
  },
  {
   "cell_type": "code",
   "execution_count": null,
   "metadata": {
    "collapsed": true
   },
   "outputs": [],
   "source": [
    "m._sw"
   ]
  },
  {
   "cell_type": "code",
   "execution_count": 116,
   "metadata": {
    "collapsed": true
   },
   "outputs": [],
   "source": [
    "\n",
    "m2 = Matrix([[4,5],\n",
    "             [6,7],\n",
    "             [8,9]])\n",
    "m = Matrix([[1,2,3],\n",
    "            [3,4,]])"
   ]
  },
  {
   "cell_type": "code",
   "execution_count": 117,
   "metadata": {
    "collapsed": false
   },
   "outputs": [
    {
     "name": "stdout",
     "output_type": "stream",
     "text": [
      "new is [[0.0, 0.0, 0.0], [0.0, 0.0, 0.0], [0.0, 0.0, 0.0]]\n"
     ]
    }
   ],
   "source": [
    "x = m2 * m"
   ]
  },
  {
   "cell_type": "code",
   "execution_count": 118,
   "metadata": {
    "collapsed": false
   },
   "outputs": [
    {
     "data": {
      "text/plain": [
       "19.0\t28.0\t37.0\t\n",
       "27.0\t40.0\t53.0\t\n",
       "35.0\t52.0\t69.0\t"
      ]
     },
     "execution_count": 118,
     "metadata": {},
     "output_type": "execute_result"
    }
   ],
   "source": [
    "x"
   ]
  },
  {
   "cell_type": "code",
   "execution_count": 30,
   "metadata": {
    "collapsed": false
   },
   "outputs": [],
   "source": [
    "m4 = 3 * m"
   ]
  },
  {
   "cell_type": "code",
   "execution_count": 31,
   "metadata": {
    "collapsed": false
   },
   "outputs": [
    {
     "data": {
      "text/plain": [
       "[[3, 6], [9, 12]]"
      ]
     },
     "execution_count": 31,
     "metadata": {},
     "output_type": "execute_result"
    }
   ],
   "source": [
    "m4._matrix"
   ]
  },
  {
   "cell_type": "code",
   "execution_count": 18,
   "metadata": {
    "collapsed": false
   },
   "outputs": [
    {
     "data": {
      "text/plain": [
       "[[1, 2], [3, 4]]"
      ]
     },
     "execution_count": 18,
     "metadata": {},
     "output_type": "execute_result"
    }
   ],
   "source": [
    "m4"
   ]
  },
  {
   "cell_type": "code",
   "execution_count": null,
   "metadata": {
    "collapsed": true
   },
   "outputs": [],
   "source": [
    "\n",
    "\n",
    "\n",
    "\n",
    "\n",
    "\n",
    "\n",
    "\n"
   ]
  },
  {
   "cell_type": "code",
   "execution_count": null,
   "metadata": {
    "collapsed": true
   },
   "outputs": [],
   "source": []
  },
  {
   "cell_type": "code",
   "execution_count": null,
   "metadata": {
    "collapsed": true
   },
   "outputs": [],
   "source": []
  },
  {
   "cell_type": "code",
   "execution_count": null,
   "metadata": {
    "collapsed": true
   },
   "outputs": [],
   "source": []
  }
 ],
 "metadata": {
  "kernelspec": {
   "display_name": "Python 2",
   "language": "python",
   "name": "python2"
  },
  "language_info": {
   "codemirror_mode": {
    "name": "ipython",
    "version": 2
   },
   "file_extension": ".py",
   "mimetype": "text/x-python",
   "name": "python",
   "nbconvert_exporter": "python",
   "pygments_lexer": "ipython2",
   "version": "2.7.10"
  }
 },
 "nbformat": 4,
 "nbformat_minor": 0
}
