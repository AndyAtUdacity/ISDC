{
 "cells": [
  {
   "cell_type": "markdown",
   "metadata": {},
   "source": [
    "# Instructions\n",
    "\n",
    "### Part 1: Transcribe Code (v1)\n",
    "\n",
    "1. Open `helpers.py` and look through the code.\n",
    "2. Transcribe `localization_v1.py`.\n",
    "3. Run `test.py` until you see \"localization_v1 is working correctly\"\n",
    "4. \n",
    "\n",
    "### Part 2: Use the code\n",
    "\n",
    "\n",
    "### Part 3: Reflect"
   ]
  },
  {
   "cell_type": "markdown",
   "metadata": {},
   "source": [
    "## Questions about `helpers.py`\n",
    "1. What do lines 2-5 in the `normalize` function do?\n",
    "2. What do lines 6-8 do?"
   ]
  },
  {
   "cell_type": "markdown",
   "metadata": {},
   "source": [
    "## Questions about localization v1\n"
   ]
  },
  {
   "cell_type": "code",
   "execution_count": 1,
   "metadata": {
    "collapsed": false
   },
   "outputs": [],
   "source": [
    "import maps as M\n",
    "from test import simulate_motion, initialize_beliefs\n",
    "from localization_v1 import initialize_beliefs, sense, move\n",
    "import random\n",
    "import json\n",
    "from copy import deepcopy"
   ]
  },
  {
   "cell_type": "code",
   "execution_count": 24,
   "metadata": {
    "collapsed": true
   },
   "outputs": [],
   "source": [
    "def make_json(grid, p_hit, p_miss, blurring, N,map_name):\n",
    "    timesteps = []\n",
    "    truth = []\n",
    "    data = {\n",
    "        \"map\" : grid,\n",
    "        \"map_name\" : map_name,\n",
    "        \"width\" : len(grid[0]),\n",
    "        \"height\": len(grid),\n",
    "        \"timesteps\" : timesteps,\n",
    "        \"truth\" : truth,\n",
    "    }\n",
    "    beliefs = initialize_beliefs(grid)\n",
    "    height = len(grid)\n",
    "    width = len(grid[0])\n",
    "    y_mid = height / 2\n",
    "    x_mid = width / 2\n",
    "    true_pos = (y_mid, x_mid)\n",
    "    found = False\n",
    "    prob_wrong = p_miss / (p_hit + p_miss)\n",
    "    world = deepcopy(grid)\n",
    "    world[true_pos[0]][true_pos[1]] = \"#\"\n",
    "    for i in range(N):\n",
    "        if i % 4 == 0:\n",
    "            timesteps.append({\n",
    "                    \"beliefs\": beliefs,\n",
    "                    \"world\" : world})\n",
    "        world = deepcopy(grid)\n",
    "        world[true_pos[0]][true_pos[1]] = \"#\"\n",
    "        \n",
    "        true_color = grid[true_pos[0]][true_pos[1]]\n",
    "        color = true_color\n",
    "        if random.random() < prob_wrong:\n",
    "            print \"BAD SENSE!\"\n",
    "            if color == 'r': \n",
    "                color = 'g'\n",
    "            else:\n",
    "                color = 'r'\n",
    "\n",
    "        beliefs = sense(color, grid, deepcopy(beliefs),p_hit,p_miss)\n",
    "        if i % 4 == 0:\n",
    "            dx = random.choice([1,0,-1])\n",
    "            dy = random.choice([1,0,-1])\n",
    "            y = (true_pos[0] + dy) % height\n",
    "            x = (true_pos[1] + dx) % width\n",
    "            true_pos = (y,x)\n",
    "            beliefs = move(dy,dx, deepcopy(beliefs), blurring)\n",
    "#         timesteps.append({\n",
    "#                 \"beliefs\": beliefs,\n",
    "#                 \"world\" : world})\n",
    "#         beliefs = move(dx,dy, deepcopy(beliefs), blurring)\n",
    "    f_name = \"{}-{}.json\".format(map_name, N)\n",
    "\n",
    "    with open(f_name, 'wb') as f:\n",
    "\n",
    "        json.dump( data, f)\n",
    "    return data\n",
    "    "
   ]
  },
  {
   "cell_type": "code",
   "execution_count": 26,
   "metadata": {
    "collapsed": false
   },
   "outputs": [
    {
     "name": "stdout",
     "output_type": "stream",
     "text": [
      "BAD SENSE!\n",
      "BAD SENSE!\n",
      "BAD SENSE!\n",
      "BAD SENSE!\n",
      "BAD SENSE!\n",
      "BAD SENSE!\n",
      "BAD SENSE!\n",
      "BAD SENSE!\n",
      "BAD SENSE!\n",
      "BAD SENSE!\n",
      "BAD SENSE!\n",
      "BAD SENSE!\n",
      "BAD SENSE!\n",
      "BAD SENSE!\n",
      "BAD SENSE!\n",
      "BAD SENSE!\n",
      "BAD SENSE!\n",
      "BAD SENSE!\n",
      "BAD SENSE!\n",
      "BAD SENSE!\n",
      "BAD SENSE!\n",
      "BAD SENSE!\n",
      "BAD SENSE!\n",
      "BAD SENSE!\n",
      "BAD SENSE!\n",
      "BAD SENSE!\n",
      "BAD SENSE!\n",
      "BAD SENSE!\n",
      "BAD SENSE!\n",
      "BAD SENSE!\n",
      "BAD SENSE!\n",
      "BAD SENSE!\n",
      "BAD SENSE!\n",
      "BAD SENSE!\n",
      "BAD SENSE!\n",
      "BAD SENSE!\n",
      "BAD SENSE!\n",
      "BAD SENSE!\n",
      "BAD SENSE!\n",
      "BAD SENSE!\n",
      "BAD SENSE!\n",
      "BAD SENSE!\n",
      "BAD SENSE!\n",
      "BAD SENSE!\n",
      "BAD SENSE!\n",
      "BAD SENSE!\n",
      "BAD SENSE!\n",
      "BAD SENSE!\n",
      "BAD SENSE!\n",
      "BAD SENSE!\n",
      "BAD SENSE!\n",
      "BAD SENSE!\n",
      "BAD SENSE!\n",
      "BAD SENSE!\n",
      "BAD SENSE!\n",
      "BAD SENSE!\n",
      "BAD SENSE!\n",
      "BAD SENSE!\n",
      "BAD SENSE!\n",
      "BAD SENSE!\n",
      "BAD SENSE!\n",
      "BAD SENSE!\n",
      "BAD SENSE!\n",
      "BAD SENSE!\n",
      "BAD SENSE!\n",
      "BAD SENSE!\n",
      "BAD SENSE!\n",
      "BAD SENSE!\n",
      "BAD SENSE!\n",
      "BAD SENSE!\n",
      "BAD SENSE!\n",
      "BAD SENSE!\n",
      "BAD SENSE!\n",
      "BAD SENSE!\n",
      "BAD SENSE!\n",
      "BAD SENSE!\n",
      "BAD SENSE!\n",
      "BAD SENSE!\n",
      "BAD SENSE!\n",
      "BAD SENSE!\n",
      "BAD SENSE!\n",
      "BAD SENSE!\n",
      "BAD SENSE!\n",
      "BAD SENSE!\n",
      "BAD SENSE!\n",
      "BAD SENSE!\n",
      "BAD SENSE!\n",
      "BAD SENSE!\n",
      "BAD SENSE!\n",
      "BAD SENSE!\n",
      "BAD SENSE!\n",
      "BAD SENSE!\n",
      "BAD SENSE!\n",
      "BAD SENSE!\n",
      "BAD SENSE!\n",
      "BAD SENSE!\n",
      "BAD SENSE!\n",
      "BAD SENSE!\n",
      "BAD SENSE!\n"
     ]
    }
   ],
   "source": [
    "random.seed(0)\n",
    "data = make_json(M.RANDOM(10), 4.0, 1.0, 0.2, 400, \"RGB-big\")\n",
    "# print data['timesteps'][-1]"
   ]
  },
  {
   "cell_type": "code",
   "execution_count": 20,
   "metadata": {
    "collapsed": false
   },
   "outputs": [
    {
     "data": {
      "text/plain": [
       "{'beliefs': [[2.9240338848211954e-06,\n",
       "   1.4024414650873026e-05,\n",
       "   0.00016594999256133543,\n",
       "   0.0002068703513344071,\n",
       "   0.00033040707713507525],\n",
       "  [0.027655504809292755,\n",
       "   0.00010759133437166558,\n",
       "   0.05760088699570197,\n",
       "   0.001871861941325393,\n",
       "   0.0006995331637985554],\n",
       "  [0.00010707268951490444,\n",
       "   0.6325903592329993,\n",
       "   0.21752521567620664,\n",
       "   1.187952662757767e-05,\n",
       "   0.0006990150595323281],\n",
       "  [0.05693429682919731,\n",
       "   0.0002093966971356371,\n",
       "   0.00011141218920403639,\n",
       "   5.493301801325788e-06,\n",
       "   2.2802960586164155e-07],\n",
       "  [0.0031264865967317863,\n",
       "   6.397842270658126e-06,\n",
       "   4.580607581349124e-06,\n",
       "   1.1063337801557527e-06,\n",
       "   1.150527375423414e-05]],\n",
       " 'world': [['b', 'b', 'g', 'r', 'g'],\n",
       "  ['g', 'b', 'r', 'g', 'g'],\n",
       "  ['b', 'g', 'r', 'b', 'g'],\n",
       "  ['#', 'b', 'b', 'b', 'b'],\n",
       "  ['r', 'b', 'b', 'b', 'g']]}"
      ]
     },
     "execution_count": 20,
     "metadata": {},
     "output_type": "execute_result"
    }
   ],
   "source": [
    "data['timesteps'][-1]"
   ]
  },
  {
   "cell_type": "code",
   "execution_count": 8,
   "metadata": {
    "collapsed": false
   },
   "outputs": [
    {
     "name": "stdout",
     "output_type": "stream",
     "text": [
      "0.231158544918\n",
      "0.269494182642\n",
      "0.071493588588\n",
      "0.0911915129537\n",
      "0.0714955449077\n"
     ]
    }
   ],
   "source": [
    "for row in data['timesteps'][-1]['beliefs']:\n",
    "    print max(row)\n",
    "# data['timesteps'][-1]['beliefs'][7]\n",
    "# data['timesteps'][-1]['world']\n"
   ]
  },
  {
   "cell_type": "code",
   "execution_count": 95,
   "metadata": {
    "collapsed": false
   },
   "outputs": [
    {
     "data": {
      "text/plain": [
       "[[0.06052922094484391,\n",
       "  0.004943691847044924,\n",
       "  0.0018612608920574886,\n",
       "  0.007249433010146626,\n",
       "  0.014646760957011862],\n",
       " [0.014206414544658196,\n",
       "  0.005488035387688129,\n",
       "  0.08091133154649119,\n",
       "  0.038701431811976085,\n",
       "  0.5380451471099884],\n",
       " [0.05165741954511307,\n",
       "  0.029737915188938594,\n",
       "  0.009792855400503321,\n",
       "  0.04958768069362762,\n",
       "  0.03148624826727448],\n",
       " [0.010474500470252461,\n",
       "  0.011481536410511622,\n",
       "  0.017017782774404147,\n",
       "  0.004546506015784342,\n",
       "  0.0017407580667710303],\n",
       " [0.007280433495220556,\n",
       "  0.0037109566344359153,\n",
       "  0.0025651541170218827,\n",
       "  0.0004162972358527648,\n",
       "  0.0019212276323815364]]"
      ]
     },
     "execution_count": 95,
     "metadata": {},
     "output_type": "execute_result"
    }
   ],
   "source": [
    "for i in range(20):\n",
    "    random.seed(i)\n",
    "    "
   ]
  },
  {
   "cell_type": "code",
   "execution_count": 69,
   "metadata": {
    "collapsed": false
   },
   "outputs": [
    {
     "name": "stdout",
     "output_type": "stream",
     "text": [
      "rm: RANDOM-10.json: No such file or directory\r\n"
     ]
    }
   ],
   "source": [
    "rm RANDOM"
   ]
  },
  {
   "cell_type": "code",
   "execution_count": 39,
   "metadata": {
    "collapsed": false
   },
   "outputs": [
    {
     "data": {
      "text/plain": [
       "[[0.027777777777777776,\n",
       "  0.027777777777777776,\n",
       "  0.027777777777777776,\n",
       "  0.027777777777777776,\n",
       "  0.027777777777777776,\n",
       "  0.027777777777777776],\n",
       " [0.027777777777777776,\n",
       "  0.027777777777777776,\n",
       "  0.027777777777777776,\n",
       "  0.027777777777777776,\n",
       "  0.027777777777777776,\n",
       "  0.027777777777777776],\n",
       " [0.027777777777777776,\n",
       "  0.027777777777777776,\n",
       "  0.027777777777777776,\n",
       "  0.027777777777777776,\n",
       "  0.027777777777777776,\n",
       "  0.027777777777777776],\n",
       " [0.027777777777777776,\n",
       "  0.027777777777777776,\n",
       "  0.027777777777777776,\n",
       "  0.027777777777777776,\n",
       "  0.027777777777777776,\n",
       "  0.027777777777777776],\n",
       " [0.027777777777777776,\n",
       "  0.027777777777777776,\n",
       "  0.027777777777777776,\n",
       "  0.027777777777777776,\n",
       "  0.027777777777777776,\n",
       "  0.027777777777777776],\n",
       " [0.027777777777777776,\n",
       "  0.027777777777777776,\n",
       "  0.027777777777777776,\n",
       "  0.027777777777777776,\n",
       "  0.027777777777777776,\n",
       "  0.027777777777777776]]"
      ]
     },
     "execution_count": 39,
     "metadata": {},
     "output_type": "execute_result"
    }
   ],
   "source": [
    "data['timesteps'][0]"
   ]
  },
  {
   "cell_type": "code",
   "execution_count": null,
   "metadata": {
    "collapsed": true
   },
   "outputs": [],
   "source": []
  }
 ],
 "metadata": {
  "kernelspec": {
   "display_name": "Python 2",
   "language": "python",
   "name": "python2"
  },
  "language_info": {
   "codemirror_mode": {
    "name": "ipython",
    "version": 2
   },
   "file_extension": ".py",
   "mimetype": "text/x-python",
   "name": "python",
   "nbconvert_exporter": "python",
   "pygments_lexer": "ipython2",
   "version": "2.7.10"
  }
 },
 "nbformat": 4,
 "nbformat_minor": 0
}
