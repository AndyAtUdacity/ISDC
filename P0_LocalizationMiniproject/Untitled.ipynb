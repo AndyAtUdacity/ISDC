{
 "cells": [
  {
   "cell_type": "code",
   "execution_count": 1,
   "metadata": {
    "collapsed": true
   },
   "outputs": [],
   "source": [
    "import random\n",
    "\n",
    "class Uniform():\n",
    "    def __init__(self, lower_bound, upper_bound):\n",
    "        self.lower = lower_bound\n",
    "        self.upper = upper_bound\n",
    "        \n",
    "    def density(self, position):\n",
    "        if self.lower <= position <= self.upper:\n",
    "            return 1.0 / (self.upper-self.lower)\n",
    "        else:\n",
    "            return 0.0\n",
    "        \n",
    "    def sample(self):\n",
    "        number = random.random()\n",
    "        distribution_width = self.upper - self.lower\n",
    "        stretched = number * distribution_width\n",
    "        stretched_with_offset = stretched + self.lower\n",
    "        return stretched_with_offset"
   ]
  },
  {
   "cell_type": "code",
   "execution_count": 2,
   "metadata": {
    "collapsed": true
   },
   "outputs": [],
   "source": [
    "uniform = Uniform(5, 10)"
   ]
  },
  {
   "cell_type": "code",
   "execution_count": 4,
   "metadata": {
    "collapsed": false
   },
   "outputs": [
    {
     "name": "stdout",
     "output_type": "stream",
     "text": [
      "8.53646833866\n",
      "8.08145437995\n",
      "7.50928870681\n",
      "9.85955188145\n",
      "9.63652052791\n",
      "9.33692966443\n",
      "6.67531846252\n",
      "7.68316859726\n",
      "7.60402832526\n",
      "6.55570571802\n",
      "6.83108459374\n",
      "8.48723182615\n",
      "8.58260019917\n",
      "9.93264827621\n",
      "6.98535369884\n",
      "7.83859342745\n",
      "9.43553968696\n",
      "8.77449973869\n",
      "8.53790227678\n",
      "7.03167122041\n"
     ]
    }
   ],
   "source": [
    "for i in range(20):\n",
    "    print uniform.sample()"
   ]
  },
  {
   "cell_type": "code",
   "execution_count": null,
   "metadata": {
    "collapsed": true
   },
   "outputs": [],
   "source": []
  }
 ],
 "metadata": {
  "kernelspec": {
   "display_name": "Python 2",
   "language": "python",
   "name": "python2"
  },
  "language_info": {
   "codemirror_mode": {
    "name": "ipython",
    "version": 2
   },
   "file_extension": ".py",
   "mimetype": "text/x-python",
   "name": "python",
   "nbconvert_exporter": "python",
   "pygments_lexer": "ipython2",
   "version": "2.7.10"
  }
 },
 "nbformat": 4,
 "nbformat_minor": 0
}
