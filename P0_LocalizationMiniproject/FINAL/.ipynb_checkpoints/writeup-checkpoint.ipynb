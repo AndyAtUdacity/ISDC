{
 "cells": [
  {
   "cell_type": "code",
   "execution_count": 120,
   "metadata": {
    "collapsed": true
   },
   "outputs": [],
   "source": [
    "# Todo - change to Python 3 and remove this.\n",
    "from __future__ import division, print_function"
   ]
  },
  {
   "cell_type": "markdown",
   "metadata": {},
   "source": [
    "# Part 1: Exploring the code\n",
    "In this section you will just run some existing code to get a feel for what this localizer does.\n",
    "\n",
    "You can navigate through this notebook using the arrow keys on your keyboard. \n",
    "\n",
    "When you get to a cell with code in it you can run that code in one of two ways:\n",
    "\n",
    "1. **Shift + Enter**: this runs the code in the cell and then moves you into the next cell. This is good for stepping through the notebook incrementally.\n",
    "\n",
    "2. **Ctrl + Enter (Windows) / Cmd + Enter (Mac)**: this runs the code in the cell without moving your cursor's focus. Good for running the same code many times.\n",
    "\n",
    "Navigate through the cells below. In each cell you should\n",
    "\n",
    "1. Read through the code. It's okay to not understand everything at this point. \n",
    "2. Guess what will happen when you run the code. \n",
    "3. Run the code and compare what you see with what you expected. \n",
    "4. When you get to a **TODO** read the instructions carefully and complete the activity."
   ]
  },
  {
   "cell_type": "code",
   "execution_count": 129,
   "metadata": {},
   "outputs": [
    {
     "data": {
      "text/plain": [
       "<module 'helpers' from 'helpers.py'>"
      ]
     },
     "execution_count": 129,
     "metadata": {},
     "output_type": "execute_result"
    }
   ],
   "source": [
    "# This code \"imports\" code from some of the other files we've written\n",
    "# in this directory. Specifically simulate.py and helpers.py\n",
    "from simulate import Simulation\n",
    "import simulate as sim\n",
    "import helpers\n",
    "reload(sim)\n",
    "reload(helpers)"
   ]
  },
  {
   "cell_type": "code",
   "execution_count": 130,
   "metadata": {},
   "outputs": [
    {
     "data": {
      "image/png": "[encoded data removed]",
      "text/plain": [
       "<matplotlib.figure.Figure at 0x10ea88b10>"
      ]
     },
     "metadata": {},
     "output_type": "display_data"
    }
   ],
   "source": [
    "# This code defines a 4x4 robot world as well as some other parameters\n",
    "# which we will discuss later. It then creates a simulation and shows \n",
    "# the initial beliefs. \n",
    "R = 'r'\n",
    "G = 'g'\n",
    "grid = [\n",
    "    [R,G,G,G],\n",
    "    [G,G,R,G],\n",
    "    [G,R,G,G],\n",
    "    [R,R,G,R],\n",
    "]\n",
    "blur = 0.05\n",
    "p_hit = 4.0\n",
    "simulation = sim.Simulation(grid, blur, p_hit)\n",
    "simulation.show_beliefs()"
   ]
  },
  {
   "cell_type": "markdown",
   "metadata": {},
   "source": [
    "_____\n",
    "### Activity 1.1\n",
    "Run the code below multiple times by repeatedly pressing Ctrl + Enter (or Cmd + Enter).\n",
    "\n",
    "After each run observe how the state has changed. "
   ]
  },
  {
   "cell_type": "code",
   "execution_count": 103,
   "metadata": {},
   "outputs": [
    {
     "data": {
      "image/png": "[encoded data removed]",
      "text/plain": [
       "<matplotlib.figure.Figure at 0x10e6ac910>"
      ]
     },
     "metadata": {},
     "output_type": "display_data"
    }
   ],
   "source": [
    "simulation.run(1)\n",
    "simulation.show_beliefs()"
   ]
  },
  {
   "cell_type": "markdown",
   "metadata": {},
   "source": [
    "What do you think this call to `run` is doing? \n",
    "\n",
    "**TODO**\n",
    "Look at the code in `simulate.py`. It calls two other methods from the Simulate class. What are the names of those methods and, in one sentence for each, describe what each of those methods does. Enter your answer below."
   ]
  },
  {
   "cell_type": "markdown",
   "metadata": {},
   "source": [
    "\n",
    "\n",
    "\n",
    "\n"
   ]
  },
  {
   "cell_type": "markdown",
   "metadata": {},
   "source": [
    "____\n",
    "#### `run` explained\n",
    "\n",
    "The run method advances the state of the robot by some number of timesteps. At each timestep the method makes a call to the `sense` method to update the robot's beliefs and then generates a random motion using the `random_move` method and then finally calls the `move` methods to move the robot.\n",
    "\n",
    "Note: the show_probabilities method displays a visual representation of the robot's beliefs: bigger circles mean higher probabilities. The red star represents the robot's true position.\n",
    "\n",
    "You could look at the actual probabilities with the code below"
   ]
  },
  {
   "cell_type": "code",
   "execution_count": 104,
   "metadata": {},
   "outputs": [
    {
     "name": "stdout",
     "output_type": "stream",
     "text": [
      "[0.11580882352941176, 0.1150735294117647, 0.031249999999999997, 0.11433823529411764]\n",
      "[0.11470588235294117, 0.031617647058823535, 0.030882352941176472, 0.031617647058823535]\n",
      "[0.03051470588235294, 0.03125, 0.11360294117647059, 0.03051470588235294]\n",
      "[0.031617647058823535, 0.11470588235294119, 0.031617647058823535, 0.030882352941176472]\n"
     ]
    }
   ],
   "source": [
    "for row in simulation.beliefs:\n",
    "    print(row)"
   ]
  },
  {
   "cell_type": "markdown",
   "metadata": {},
   "source": [
    "## Part 1.2: Using someone else's code / Comfort with abstractions.\n",
    "Later you will be asked to play around with different parameters to observe their effect on the robot's localization. You've been given some functions in `helpers.py` which will help you analyze the performance of the localizer. \n",
    "\n",
    "The goal for this section is to get some experience using existing code **without** understanding how it works. This is something we do all the time when we program and it takes practice to do it well."
   ]
  },
  {
   "cell_type": "code",
   "execution_count": 105,
   "metadata": {},
   "outputs": [
    {
     "name": "stdout",
     "output_type": "stream",
     "text": [
      "[0.25, 0.25]\n",
      "[0.25, 0.25]\n"
     ]
    }
   ],
   "source": [
    "uniform_beliefs = [\n",
    "    [0.25, 0.25],\n",
    "    [0.25, 0.25]\n",
    "]\n",
    "for row in uniform_beliefs:\n",
    "    print(row)"
   ]
  },
  {
   "cell_type": "code",
   "execution_count": 106,
   "metadata": {},
   "outputs": [
    {
     "name": "stdout",
     "output_type": "stream",
     "text": [
      "[1.0, 1.0]\n",
      "[1.0, 1.0]\n"
     ]
    }
   ],
   "source": [
    "non_uniform_beliefs = [\n",
    "    [1.0, 1.0],\n",
    "    [1.0, 1.0]\n",
    "]\n",
    "\n",
    "for row in non_uniform_beliefs:\n",
    "    print(row)"
   ]
  },
  {
   "cell_type": "code",
   "execution_count": 107,
   "metadata": {},
   "outputs": [
    {
     "name": "stdout",
     "output_type": "stream",
     "text": [
      "[0.25, 0.25]\n",
      "[0.25, 0.25]\n"
     ]
    }
   ],
   "source": [
    "normalized = helpers.normalize(non_uniform_beliefs)\n",
    "for row in normalized:\n",
    "    print(row)"
   ]
  },
  {
   "cell_type": "code",
   "execution_count": 123,
   "metadata": {
    "collapsed": true
   },
   "outputs": [],
   "source": [
    "localized_beliefs = [\n",
    "    [0,0,0,0,0],\n",
    "    [0,0,0,0,0],\n",
    "    [0,0,1,0,0],\n",
    "    [0,0,0,0,0],\n",
    "    [0,0,0,0,0],\n",
    "]"
   ]
  },
  {
   "cell_type": "code",
   "execution_count": 124,
   "metadata": {},
   "outputs": [
    {
     "data": {
      "text/plain": [
       "(True, (2, 2))"
      ]
     },
     "execution_count": 124,
     "metadata": {},
     "output_type": "execute_result"
    }
   ],
   "source": [
    "true_pos = (2,2)\n",
    "helpers.is_robot_localized(localized_beliefs, true_pos)"
   ]
  },
  {
   "cell_type": "code",
   "execution_count": 125,
   "metadata": {},
   "outputs": [
    {
     "data": {
      "text/plain": [
       "(False, (2, 2))"
      ]
     },
     "execution_count": 125,
     "metadata": {},
     "output_type": "execute_result"
    }
   ],
   "source": [
    "true_pos = (1,2)\n",
    "helpers.is_robot_localized(localized_beliefs, true_pos)"
   ]
  },
  {
   "cell_type": "code",
   "execution_count": 126,
   "metadata": {
    "collapsed": true
   },
   "outputs": [],
   "source": [
    "# The function is_robot_localized is a little weird. It returns\n",
    "# a TUPLE with two elements (not three). What are those elements? \n",
    "# How can you find out? You COULD consult the actual code. Or you could\n",
    "# look at the documentation written for that function by writing \n",
    "# something like this:\n",
    "helpers.is_robot_localized?"
   ]
  },
  {
   "cell_type": "code",
   "execution_count": 131,
   "metadata": {},
   "outputs": [
    {
     "ename": "ZeroDivisionError",
     "evalue": "float division by zero",
     "output_type": "error",
     "traceback": [
      "\u001b[0;31m---------------------------------------------------------------------------\u001b[0m",
      "\u001b[0;31mZeroDivisionError\u001b[0m                         Traceback (most recent call last)",
      "\u001b[0;32m<ipython-input-131-17f4395118e8>\u001b[0m in \u001b[0;36m<module>\u001b[0;34m()\u001b[0m\n\u001b[1;32m      5\u001b[0m \u001b[0;34m\u001b[0m\u001b[0m\n\u001b[1;32m      6\u001b[0m \u001b[0mtrue_pos\u001b[0m \u001b[0;34m=\u001b[0m \u001b[0;34m(\u001b[0m\u001b[0;36m1\u001b[0m\u001b[0;34m,\u001b[0m\u001b[0;36m2\u001b[0m\u001b[0;34m)\u001b[0m \u001b[0;31m# true position is y=1, x=2\u001b[0m\u001b[0;34m\u001b[0m\u001b[0m\n\u001b[0;32m----> 7\u001b[0;31m \u001b[0mlocalized\u001b[0m\u001b[0;34m,\u001b[0m \u001b[0mbest_guess\u001b[0m \u001b[0;34m=\u001b[0m \u001b[0mis_robot_localized\u001b[0m\u001b[0;34m(\u001b[0m\u001b[0mlocalized_beliefs\u001b[0m\u001b[0;34m,\u001b[0m \u001b[0mtrue_pos\u001b[0m\u001b[0;34m)\u001b[0m\u001b[0;34m\u001b[0m\u001b[0m\n\u001b[0m\u001b[1;32m      8\u001b[0m \u001b[0;34m\u001b[0m\u001b[0m\n\u001b[1;32m      9\u001b[0m \u001b[0;32mprint\u001b[0m\u001b[0;34m(\u001b[0m\u001b[0;34m\"To say the robot is localized would be\"\u001b[0m\u001b[0;34m,\u001b[0m \u001b[0mlocalized\u001b[0m\u001b[0;34m)\u001b[0m\u001b[0;34m\u001b[0m\u001b[0m\n",
      "\u001b[0;32m/Users/andy/ISDC/Classroom/ISDC/P0_LocalizationMiniproject/FINAL/helpers.py\u001b[0m in \u001b[0;36mis_robot_localized\u001b[0;34m(beliefs, true_pos)\u001b[0m\n\u001b[1;32m     48\u001b[0m     \"\"\"\n\u001b[1;32m     49\u001b[0m     \u001b[0mReturns\u001b[0m \u001b[0mNone\u001b[0m \u001b[0;32mif\u001b[0m \u001b[0mthe\u001b[0m \u001b[0mrobot\u001b[0m \u001b[0mhas\u001b[0m \u001b[0mno\u001b[0m \u001b[0;34m\"strong opininon\"\u001b[0m \u001b[0mabout\u001b[0m\u001b[0;34m\u001b[0m\u001b[0m\n\u001b[0;32m---> 50\u001b[0;31m     \u001b[0mits\u001b[0m \u001b[0mbelief\u001b[0m\u001b[0;34m.\u001b[0m \u001b[0mThe\u001b[0m \u001b[0mrobot\u001b[0m \u001b[0mhas\u001b[0m \u001b[0ma\u001b[0m \u001b[0mstrong\u001b[0m \u001b[0mopinion\u001b[0m \u001b[0mwhen\u001b[0m \u001b[0mthe\u001b[0m\u001b[0;34m\u001b[0m\u001b[0m\n\u001b[0m\u001b[1;32m     51\u001b[0m     \u001b[0msize\u001b[0m \u001b[0mof\u001b[0m \u001b[0mit\u001b[0m\u001b[0;31m'\u001b[0m\u001b[0ms\u001b[0m \u001b[0mbest\u001b[0m \u001b[0mbelief\u001b[0m \u001b[0;32mis\u001b[0m \u001b[0mgreater\u001b[0m \u001b[0mthan\u001b[0m \u001b[0mtwice\u001b[0m \u001b[0mthe\u001b[0m \u001b[0msize\u001b[0m \u001b[0mof\u001b[0m\u001b[0;34m\u001b[0m\u001b[0m\n\u001b[1;32m     52\u001b[0m     \u001b[0mits\u001b[0m \u001b[0msecond\u001b[0m \u001b[0mbest\u001b[0m \u001b[0mbelief\u001b[0m\u001b[0;34m.\u001b[0m\u001b[0;34m\u001b[0m\u001b[0m\n",
      "\u001b[0;31mZeroDivisionError\u001b[0m: float division by zero"
     ]
    }
   ],
   "source": [
    "# according to the documentation, this function returns 2 things:\n",
    "# first - a boolean indicating whether or not it's localized and \n",
    "# then a (y,x) tuple which gives the coordinates of the robots best \n",
    "# guess. Python supports \"tuple unpacking\" as demonstrated below:\n",
    "\n",
    "true_pos = (1,2) # true position is y=1, x=2\n",
    "localized, best_guess = is_robot_localized(localized_beliefs, true_pos)\n",
    "\n",
    "print(\"To say the robot is localized would be\", localized)\n",
    "print(\"because the robot believes it is at\", best_guess)\n",
    "print(\"and the truth is that it is at\", true_pos)"
   ]
  },
  {
   "cell_type": "code",
   "execution_count": null,
   "metadata": {
    "collapsed": true
   },
   "outputs": [],
   "source": []
  }
 ],
 "metadata": {
  "kernelspec": {
   "display_name": "Python 2",
   "language": "python",
   "name": "python2"
  },
  "language_info": {
   "codemirror_mode": {
    "name": "ipython",
    "version": 2
   },
   "file_extension": ".py",
   "mimetype": "text/x-python",
   "name": "python",
   "nbconvert_exporter": "python",
   "pygments_lexer": "ipython2",
   "version": "2.7.13"
  }
 },
 "nbformat": 4,
 "nbformat_minor": 2
}
