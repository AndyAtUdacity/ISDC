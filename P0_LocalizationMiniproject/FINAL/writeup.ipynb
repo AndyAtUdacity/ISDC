{
 "cells": [
  {
   "cell_type": "code",
   "execution_count": null,
   "metadata": {
    "collapsed": true
   },
   "outputs": [],
   "source": [
    "# Todo - change to Python 3 and remove this.\n",
    "from __future__ import division, print_function"
   ]
  },
  {
   "cell_type": "markdown",
   "metadata": {},
   "source": [
    "# Project 1 - Working with Existing Code and Debugging\n",
    "Writing code is important. But a big part of being on a self driving car team is working with a **large** existing codebase. On high stakes engineering projects like a self driving car, you will probably have to earn the trust of your managers and coworkers before they'll let you make substantial changes to the code base. \n",
    "\n",
    "A typical assignment for someone new to a team is to make progress on a backlog of bugs. So with that in mind, that's what you will be doing for your first project in the Nanodegree.\n",
    "\n",
    "This repository contains code for a localization module for robots that live in discrete 2D worlds. Unfortunately one of the tests in `localization_tests.py` isn't passing. Your job in this project is to identify the cause of the bug and fix it without introducing any new bugs.\n",
    "\n",
    "Your submission will be considered \"passing\" if the changes you make cause all of the tests in `localization_tests.py` to pass. You'll go through this project in a few parts:\n",
    "\n",
    "1. **Explore the Code** - don't worry about bugs at this point. The goal is to get a feel for how this code base is organized and what everything does.\n",
    "2. **Implement a Feature** - write code that gets the robot moving correctly.\n",
    "3. **Identify and Reproduce a Bug** - Implementing motion will reveal a bug which hadn't shown up before. Here you'll identify what the bug is and take steps to reproduce and understand it. \n",
    "4. **Write a Test** - here you'll write a test (which currently fails) which will help avoid reintroducing it in the future.\n",
    "5. **Fix** - here you'll actually fix the bug using a systematic process.\n"
   ]
  },
  {
   "cell_type": "markdown",
   "metadata": {},
   "source": [
    "## Part 1: Exploring the code\n",
    "In this section you will just run some existing code to get a feel for what this localizer does.\n",
    "\n",
    "You can navigate through this notebook using the arrow keys on your keyboard. \n",
    "\n",
    "When you get to a cell with code in it you can run that code in one of two ways:\n",
    "\n",
    "1. **Shift + Enter**: this runs the code in the cell and then moves you into the next cell. This is good for stepping through the notebook incrementally.\n",
    "\n",
    "2. **Ctrl + Enter (Windows) / Cmd + Enter (Mac)**: this runs the code in the cell without moving your cursor's focus. Good for running the same code many times.\n",
    "\n",
    "Navigate through the cells below. In each cell you should\n",
    "\n",
    "1. Read through the code. It's okay to not understand everything at this point. \n",
    "2. Guess what will happen when you run the code. \n",
    "3. Run the code and compare what you see with what you expected. \n",
    "4. When you get to a **TODO** read the instructions carefully and complete the activity.\n",
    "\n"
   ]
  },
  {
   "cell_type": "code",
   "execution_count": 171,
   "metadata": {},
   "outputs": [
    {
     "data": {
      "text/plain": [
       "<module 'helpers' from 'helpers.pyc'>"
      ]
     },
     "execution_count": 171,
     "metadata": {},
     "output_type": "execute_result"
    }
   ],
   "source": [
    "# This code \"imports\" code from some of the other files we've written\n",
    "# in this directory. Specifically simulate.py and helpers.py\n",
    "from simulate import Simulation\n",
    "import simulate as sim\n",
    "import helpers\n",
    "reload(sim)\n",
    "reload(helpers)"
   ]
  },
  {
   "cell_type": "code",
   "execution_count": 172,
   "metadata": {},
   "outputs": [
    {
     "data": {
      "image/png": "[encoded data removed]",
      "text/plain": [
       "<matplotlib.figure.Figure at 0x1048c5550>"
      ]
     },
     "metadata": {},
     "output_type": "display_data"
    }
   ],
   "source": [
    "# This code defines a 4x4 robot world as well as some other parameters\n",
    "# which we will discuss later. It then creates a simulation and shows \n",
    "# the initial beliefs. \n",
    "R = 'r'\n",
    "G = 'g'\n",
    "grid = [\n",
    "    [R,G,G,G],\n",
    "    [G,G,R,G],\n",
    "    [G,R,G,G],\n",
    "    [R,R,G,R],\n",
    "]\n",
    "blur = 0.05\n",
    "p_hit = 4.0\n",
    "simulation = sim.Simulation(grid, blur, p_hit)\n",
    "simulation.show_beliefs()"
   ]
  },
  {
   "cell_type": "markdown",
   "metadata": {},
   "source": [
    "_____\n",
    "### Activity 1.1\n",
    "Run the code below multiple times by repeatedly pressing Ctrl + Enter (or Cmd + Enter).\n",
    "\n",
    "After each run observe how the state has changed. "
   ]
  },
  {
   "cell_type": "code",
   "execution_count": 173,
   "metadata": {},
   "outputs": [
    {
     "data": {
      "image/png": "[encoded data removed]",
      "text/plain": [
       "<matplotlib.figure.Figure at 0x1047ffb90>"
      ]
     },
     "metadata": {},
     "output_type": "display_data"
    }
   ],
   "source": [
    "simulation.run(1)\n",
    "simulation.show_beliefs()"
   ]
  },
  {
   "cell_type": "markdown",
   "metadata": {},
   "source": [
    "What do you think this call to `run` is doing? \n",
    "\n",
    "**TODO**\n",
    "Look at the code in `simulate.py`. It calls two other methods from the Simulate class. What are the names of those methods and, in one sentence for each, describe what each of those methods does. Enter your answer below."
   ]
  },
  {
   "cell_type": "markdown",
   "metadata": {},
   "source": [
    "____\n",
    "#### `run` explained\n",
    "\n",
    "The run method advances the state of the robot by some number of timesteps. At each timestep the method makes a call to the `sense` method to update the robot's beliefs and then generates a random motion using the `random_move` method and then finally calls the `move` methods to move the robot.\n",
    "\n",
    "Note: the show_probabilities method displays a visual representation of the robot's beliefs: bigger circles mean higher probabilities. The red star represents the robot's true position.\n",
    "\n",
    "You could look at the actual probabilities with the code below"
   ]
  },
  {
   "cell_type": "code",
   "execution_count": 174,
   "metadata": {},
   "outputs": [
    {
     "name": "stdout",
     "output_type": "stream",
     "text": [
      "[0.02309782608695652, 0.023641304347826086, 0.0855978260869565, 0.02418478260869565]\n",
      "[0.02391304347826087, 0.08532608695652172, 0.0858695652173913, 0.08532608695652172]\n",
      "[0.08614130434782608, 0.08559782608695651, 0.024728260869565217, 0.08614130434782608]\n",
      "[0.08532608695652173, 0.02391304347826087, 0.08532608695652173, 0.0858695652173913]\n"
     ]
    }
   ],
   "source": [
    "for row in simulation.beliefs:\n",
    "    print(row)"
   ]
  },
  {
   "cell_type": "code",
   "execution_count": 175,
   "metadata": {
    "collapsed": true
   },
   "outputs": [],
   "source": [
    "# but that doesn't look very nice. The code below will round all the numbers\n",
    "# to three decimal places"
   ]
  },
  {
   "cell_type": "code",
   "execution_count": 176,
   "metadata": {},
   "outputs": [
    {
     "name": "stdout",
     "output_type": "stream",
     "text": [
      "0.250\n",
      "0.250\n",
      "0.250\n",
      "0.250\n"
     ]
    }
   ],
   "source": [
    "for row in uniform_beliefs:\n",
    "    for belief in row:\n",
    "        print(\"{:0.3f}\".format(belief))"
   ]
  },
  {
   "cell_type": "code",
   "execution_count": 177,
   "metadata": {},
   "outputs": [
    {
     "name": "stdout",
     "output_type": "stream",
     "text": [
      "0.250  0.250  \n",
      "0.250  0.250  \n"
     ]
    }
   ],
   "source": [
    "# whoops, that prints each probability on a new line. Two small additions\n",
    "# will fix that.\n",
    "for row in uniform_beliefs:\n",
    "    for belief in row:\n",
    "        print(\"{:0.3f}\".format(belief), end=\"  \")\n",
    "    print()"
   ]
  },
  {
   "cell_type": "code",
   "execution_count": 178,
   "metadata": {
    "collapsed": true
   },
   "outputs": [],
   "source": [
    "# Much better. We'll probably want to look at probabilities a lot, so lets \n",
    "# make that into its own function. Repeating yourself is bad.\n",
    "\n",
    "def show_rounded_beliefs(beliefs):\n",
    "    for row in beliefs:\n",
    "        for belief in row:\n",
    "            print(\"{:0.3f}\".format(belief), end=\"  \")\n",
    "        print()"
   ]
  },
  {
   "cell_type": "code",
   "execution_count": 179,
   "metadata": {},
   "outputs": [
    {
     "name": "stdout",
     "output_type": "stream",
     "text": [
      "0.250  0.250  \n",
      "0.250  0.250  \n"
     ]
    }
   ],
   "source": [
    "# let's just make sure that works by passing uniform_beliefs\n",
    "# into it and confirming it does what we think.\n",
    "show_rounded_beliefs(uniform_beliefs)"
   ]
  },
  {
   "cell_type": "markdown",
   "metadata": {},
   "source": [
    "_____\n",
    "\n",
    "_____"
   ]
  },
  {
   "cell_type": "markdown",
   "metadata": {},
   "source": [
    "### Part 1.2: Using someone else's code / Comfort with abstractions.\n",
    "Later you will be asked to play around with different parameters to observe their effect on the robot's localization. You've been given some functions in `helpers.py` and `simulate.py` which will help you analyze the performance of the localizer. \n",
    "\n",
    "The goal for this section is to get some experience using existing code **without** understanding how it works. This is something we do all the time when we program and it takes practice to do it well.\n",
    "\n",
    "**Try to avoid looking at the actual code in helpers.py or simulate.py**"
   ]
  },
  {
   "cell_type": "code",
   "execution_count": 180,
   "metadata": {},
   "outputs": [
    {
     "data": {
      "image/png": "[encoded data removed]",
      "text/plain": [
       "<matplotlib.figure.Figure at 0x104730390>"
      ]
     },
     "metadata": {},
     "output_type": "display_data"
    }
   ],
   "source": [
    "# you've already seen what show_beliefs does, but let's \n",
    "# run that code one more time.\n",
    "\n",
    "R = 'r'\n",
    "G = 'g'\n",
    "grid = [\n",
    "    [R,G,G,G],\n",
    "    [G,G,R,G],\n",
    "    [G,R,G,G],\n",
    "    [R,R,G,R],\n",
    "]\n",
    "blur = 0.05\n",
    "p_hit = 4.0\n",
    "simulation = sim.Simulation(grid, blur, p_hit)\n",
    "simulation.show_beliefs()"
   ]
  },
  {
   "cell_type": "code",
   "execution_count": 181,
   "metadata": {},
   "outputs": [
    {
     "data": {
      "image/png": "[encoded data removed]",
      "text/plain": [
       "<matplotlib.figure.Figure at 0x103e478d0>"
      ]
     },
     "metadata": {},
     "output_type": "display_data"
    }
   ],
   "source": [
    "# what do you think you'll see if you run the following?\n",
    "# Give this some thought before you run this cell.\n",
    "# Specifically, come up with answers to these questions:\n",
    "# 1. How will the size of the circles (beliefs) change if they change at all?\n",
    "# 2. Where will the red star be?\n",
    "\n",
    "simulation.move(0,1)\n",
    "simulation.show_beliefs()"
   ]
  },
  {
   "cell_type": "code",
   "execution_count": 182,
   "metadata": {
    "collapsed": true
   },
   "outputs": [],
   "source": [
    "# The robot moved one to the right. Go back up to the cell you just ran\n",
    "# and run it again. What do you think will happen if the robot tries\n",
    "# to move right when it is already at the \"edge\" of its world?"
   ]
  },
  {
   "cell_type": "code",
   "execution_count": 183,
   "metadata": {},
   "outputs": [
    {
     "data": {
      "image/png": "[encoded data removed]",
      "text/plain": [
       "<matplotlib.figure.Figure at 0x103ed7b90>"
      ]
     },
     "metadata": {},
     "output_type": "display_data"
    }
   ],
   "source": [
    "# This world is cyclical. It wraps around on itself.\n",
    "# What will happen if you run the following?\n",
    "simulation.move(1,0)\n",
    "simulation.show_beliefs()"
   ]
  },
  {
   "cell_type": "code",
   "execution_count": 184,
   "metadata": {
    "collapsed": true
   },
   "outputs": [],
   "source": [
    "# In this coordinate system the y axis points downwards.\n",
    "# This is a common convention when representing a grid as \n",
    "# a list of lists."
   ]
  },
  {
   "cell_type": "markdown",
   "metadata": {},
   "source": [
    "We can explore how code works by using functions and observing what the output looks like. While this is often a useful strategy, it's not the only strategy. "
   ]
  },
  {
   "cell_type": "code",
   "execution_count": 185,
   "metadata": {},
   "outputs": [
    {
     "name": "stdout",
     "output_type": "stream",
     "text": [
      "0.250  0.250  \n",
      "0.250  0.250  \n"
     ]
    }
   ],
   "source": [
    "normalized_beliefs = [\n",
    "    [0.25, 0.25],\n",
    "    [0.25, 0.25]\n",
    "]\n",
    "show_rounded_beliefs(normalized_beliefs)"
   ]
  },
  {
   "cell_type": "code",
   "execution_count": 186,
   "metadata": {},
   "outputs": [
    {
     "name": "stdout",
     "output_type": "stream",
     "text": [
      "1.000  1.000  \n",
      "1.000  1.000  \n"
     ]
    }
   ],
   "source": [
    "non_normalized_beliefs = [\n",
    "    [1.0, 1.0],\n",
    "    [1.0, 1.0]\n",
    "]\n",
    "show_rounded_beliefs(non_normalized_beliefs)"
   ]
  },
  {
   "cell_type": "code",
   "execution_count": 187,
   "metadata": {},
   "outputs": [
    {
     "name": "stdout",
     "output_type": "stream",
     "text": [
      "0.250  0.250  \n",
      "0.250  0.250  \n"
     ]
    }
   ],
   "source": [
    "normalized = helpers.normalize(non_normalized_beliefs)\n",
    "show_rounded_beliefs(normalized)"
   ]
  },
  {
   "cell_type": "markdown",
   "metadata": {},
   "source": [
    "Great! The `normalize` function behaves as expected. Let's explore the is_robot_localized function."
   ]
  },
  {
   "cell_type": "code",
   "execution_count": 188,
   "metadata": {
    "collapsed": true
   },
   "outputs": [],
   "source": [
    "beliefs = [\n",
    "    [0,0,0,0,0],\n",
    "    [0,0,0,0,0],\n",
    "    [0,0,1,0,0],\n",
    "    [0,0,0,0,0],\n",
    "    [0,0,0,0,0],\n",
    "]"
   ]
  },
  {
   "cell_type": "code",
   "execution_count": null,
   "metadata": {},
   "outputs": [],
   "source": [
    "true_pos = (2,2)\n",
    "helpers.is_robot_localized(beliefs, true_pos)"
   ]
  },
  {
   "cell_type": "code",
   "execution_count": null,
   "metadata": {},
   "outputs": [],
   "source": [
    "true_pos = (1,2)\n",
    "helpers.is_robot_localized(beliefs, true_pos)"
   ]
  },
  {
   "cell_type": "code",
   "execution_count": null,
   "metadata": {
    "collapsed": true
   },
   "outputs": [],
   "source": [
    "# The function is_robot_localized is a little weird. It returns\n",
    "# a TUPLE with two elements (not three). What are those elements? \n",
    "# How can you find out? You COULD consult the actual code. Or you could\n",
    "# look at the documentation written for that function by writing \n",
    "# something like this:\n",
    "helpers.is_robot_localized?"
   ]
  },
  {
   "cell_type": "code",
   "execution_count": null,
   "metadata": {},
   "outputs": [],
   "source": [
    "# according to the documentation, this function returns 2 things:\n",
    "# first - a boolean indicating whether or not it's localized and \n",
    "# then a (y,x) tuple which gives the coordinates of the robots best \n",
    "# guess. Python supports \"tuple unpacking\" as demonstrated below:\n",
    "\n",
    "true_pos = (1,2) # true position is y=1, x=2\n",
    "localized, best_guess = helpers.is_robot_localized(localized_beliefs, true_pos)\n",
    "\n",
    "print(\"Localized? \", localized)\n",
    "print(\"Best guess:\", best_guess)\n",
    "print(\"True pose: \", true_pos)"
   ]
  },
  {
   "cell_type": "markdown",
   "metadata": {
    "collapsed": true
   },
   "source": [
    "We'll come back to localizing our robot in a bit. For now let's explore the blur function."
   ]
  },
  {
   "cell_type": "code",
   "execution_count": null,
   "metadata": {},
   "outputs": [],
   "source": [
    "certain_beliefs = [\n",
    "    [0,0,0,0,0],\n",
    "    [0,0,0,0,0],\n",
    "    [0,0,1,0,0],\n",
    "    [0,0,0,0,0],\n",
    "    [0,0,0,0,0],\n",
    "]\n",
    "blurring_factor = 0.25\n",
    "blurred = helpers.blur(certain_beliefs, blurring_factor)\n",
    "show_rounded_beliefs(blurred)"
   ]
  },
  {
   "cell_type": "code",
   "execution_count": null,
   "metadata": {
    "collapsed": true
   },
   "outputs": [],
   "source": [
    "beliefs = certain_beliefs"
   ]
  },
  {
   "cell_type": "code",
   "execution_count": null,
   "metadata": {},
   "outputs": [],
   "source": [
    "# Run the following code until the robot is no longer considered localized. Note\n",
    "# what's happened to the probabilities at this point.\n",
    "# Remember: use Ctrl + Enter or Cmd + Enter to run code WITHOUT\n",
    "# advancing to the next cell.\n",
    "true_pos = (2,2)\n",
    "beliefs = helpers.blur(beliefs, blurring_factor)\n",
    "localized, guess = helpers.is_robot_localized(beliefs, true_pos)\n",
    "print(\"Localized?\", localized)\n",
    "show_rounded_beliefs(beliefs)"
   ]
  },
  {
   "cell_type": "code",
   "execution_count": null,
   "metadata": {
    "collapsed": true
   },
   "outputs": [],
   "source": [
    "# What do you think will happen if you keep blurring the beliefs?\n",
    "# Try running the above block of code ANOTHER 20 times. You should\n",
    "# see the distribution approaching a uniform probability distribution."
   ]
  },
  {
   "cell_type": "markdown",
   "metadata": {},
   "source": []
  }
 ],
 "metadata": {
  "kernelspec": {
   "display_name": "Python 2",
   "language": "python",
   "name": "python2"
  },
  "language_info": {
   "codemirror_mode": {
    "name": "ipython",
    "version": 2
   },
   "file_extension": ".py",
   "mimetype": "text/x-python",
   "name": "python",
   "nbconvert_exporter": "python",
   "pygments_lexer": "ipython2",
   "version": "2.7.13"
  }
 },
 "nbformat": 4,
 "nbformat_minor": 2
}
