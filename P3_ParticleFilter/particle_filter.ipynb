{
 "cells": [
  {
   "cell_type": "code",
   "execution_count": 317,
   "metadata": {
    "collapsed": true
   },
   "outputs": [],
   "source": [
    "import random\n",
    "from math import pi, sqrt, cos, sin,exp\n",
    "from matplotlib import pyplot as plt\n",
    "\n",
    "\n",
    "def gaussian(mu,sigma,x):\n",
    "    return exp(-((mu-x)**2)/(sigma**2)/2.0)/sqrt(2.0*pi*(sigma**2))\n",
    "\n",
    "class Map():\n",
    "    def __init__(self, height, width, landmarks, weight=1.0):\n",
    "#         self.width = width\n",
    "#         self.height = height\n",
    "        self.landmarks = landmarks\n",
    "        \n",
    "ALL_MULTS =[]\n",
    "class Particle():\n",
    "    distance_sigma = 0.5\n",
    "    def __init__(self, orientation, x, y, weight=1.0):\n",
    "        self.x = x\n",
    "        self.y = y\n",
    "        self.orientation = orientation\n",
    "        self.weight = weight\n",
    "        \n",
    "    def move(self, u, noise, world_map):\n",
    "        distance, turn = u\n",
    "        distance += random.gauss(0,noise[0])\n",
    "        turn += random.gauss(0,noise[1] )\n",
    "        self.orientation = (self.orientation + turn + 2*pi) % (2*pi)\n",
    "        dx = distance * cos(self.orientation)\n",
    "        dy = distance * sin(self.orientation)\n",
    "        self.x += dx\n",
    "#         self.x %= world_map.width\n",
    "        \n",
    "        self.y += dy\n",
    "#         self.y %= world_map.height\n",
    "        \n",
    "    def update_weight(self, observations, landmarks):\n",
    "        self.weight = 1.0\n",
    "        for lm_id, lm in landmarks.items():\n",
    "            obs = observations[lm_id]\n",
    "            true_dx, true_dy = obs\n",
    "            true_dist = sqrt(true_dx ** 2 + true_dy ** 2)\n",
    "            \n",
    "            lm_x, lm_y = lm\n",
    "            expected_dx = lm_x - self.x\n",
    "            expected_dy = lm_y - self.y\n",
    "            \n",
    "            expected_dist = sqrt(expected_dx ** 2 + expected_dy ** 2)\n",
    "            diff = true_dist - expected_dist\n",
    "            multiplier = gaussian(0, self.distance_sigma, diff)\n",
    "            ALL_MULTS.append(multiplier)\n",
    "            self.weight *= multiplier\n",
    "        self.weight += 0.000001\n",
    "    \n",
    "    def normalize_weight(self, factor):\n",
    "        self.weight /= factor\n",
    "        \n",
    "    def __repr__(self):\n",
    "        s = \"\\nx:      {}\\n\".format(self.x)\n",
    "        s +=\"y:      {}\\n\".format(self.y)\n",
    "        s +=\"theta:  {}\\n\".format(self.orientation)\n",
    "        s +=\"weight: {}\\n\".format(self.weight)\n",
    "        return s\n",
    "        \n",
    "\n",
    "class Robot(Particle):\n",
    "    def sense(self, world_map):\n",
    "        observed = {}\n",
    "        landmarks = world_map.landmarks\n",
    "        for lm_id, lm in landmarks.items():\n",
    "            dx = lm[0] - self.x\n",
    "            dy = lm[1] - self.y\n",
    "            observed[lm_id] = (dx, dy)\n",
    "        return observed\n",
    "\n",
    "class ParticleFilter():\n",
    "    N = 1000\n",
    "    sigma_theta = 2*pi / 180.0\n",
    "    sigma_distance = 1.2\n",
    "    \n",
    "    motion_noise = (2*pi / 180.0, 0.1)\n",
    "    \n",
    "    def __init__(self, world_map):\n",
    "        self.map = world_map\n",
    "#         self.particles = self._initialize_particles()\n",
    "        pass\n",
    "    \n",
    "    def initialize(self, theta, x, y):\n",
    "        particles = []\n",
    "        for i in range(self.N):\n",
    "            orientation = random.gauss(theta, self.sigma_theta) % (2*pi)\n",
    "            X = random.gauss(x, self.sigma_distance) #% self.map.width\n",
    "            Y = random.gauss(y, self.sigma_distance) #% self.map.height\n",
    "            particles.append(Particle(orientation, X, Y))\n",
    "        self.particles = particles\n",
    "    \n",
    "    def move(self, u):\n",
    "        for p in self.particles:\n",
    "            theta_noise = random.gauss(0, self.motion_noise[0])\n",
    "            distance_noise = random.gauss(0, self.motion_noise[1])\n",
    "            noise = (distance_noise, theta_noise)\n",
    "            p.move(u,noise,self.map)\n",
    "        pass\n",
    "    \n",
    "    def sense(self, observations):\n",
    "        self._update_weights(observations)\n",
    "        self._resample()\n",
    "        self._normalize()\n",
    "        pass\n",
    "    \n",
    "    def _update_weights(self, observations):\n",
    "        landmarks = self.map.landmarks\n",
    "        total_weight = 0.0\n",
    "        for particle in self.particles:\n",
    "            particle.update_weight(observations, landmarks)\n",
    "            total_weight += particle.weight\n",
    "        print \"totalweight before: {}\".format(total_weight)\n",
    "        normalization_factor = total_weight / self.N\n",
    "        print \"normalization factor: {}\".format(normalization_factor)\n",
    "        for particle in self.particles:\n",
    "            particle.normalize_weight(normalization_factor)\n",
    "        print \"totalweight before: {}\".format(sum([p.weight for p in self.particles]))\n",
    "            \n",
    "    def _resample(self):\n",
    "        new_particles = []\n",
    "        for i in range(self.N):\n",
    "            new_particle = weighted_choice(self.particles)\n",
    "            new_particles.append(new_particle)\n",
    "        self.particles = new_particles     \n",
    "        \n",
    "    def _normalize(self):\n",
    "        for p in self.particles:\n",
    "            p.weight += 0.000001\n",
    "        total = sum(p.weight for p in self.particles)\n",
    "        factor = total / self.N\n",
    "        for p in self.particles:\n",
    "            p.normalize_weight(factor)\n",
    "    \n",
    "    def _initialize_particles(self):\n",
    "        particles = []\n",
    "        for i in range(self.N):\n",
    "            x = random.randrange(self.map.width)\n",
    "            y = random.randrange(self.map.height)\n",
    "            theta = random.uniform(0, 2*pi )\n",
    "            particles.append(Particle(theta, x, y))\n",
    "        return particles\n",
    "    \n",
    "    def best_guess(self):\n",
    "        best_particle = max(self.particles, key=lambda p: p.weight)\n",
    "        return best_particle\n",
    "    \n",
    "    def show(self, robot=None):\n",
    "        X = [p.x for p in self.particles]\n",
    "        Y = [p.y for p in self.particles]\n",
    "        plt.scatter(X,Y)\n",
    "        if robot:\n",
    "            plt.scatter([robot.x], [robot.y],color='red')\n",
    "#         plt.xlim = (0,self.map.width)\n",
    "#         plt.ylim = (0,self.map.height)\n",
    "        plt.axis([0,10, 0, 10])\n",
    "        plt.show()\n",
    "\n",
    "def weighted_choice(particles):\n",
    "    total = sum(p.weight for p in particles)\n",
    "    r = random.uniform(0, total)\n",
    "    upto = 0.0\n",
    "    for p in particles:\n",
    "        w = p.weight\n",
    "        if upto + w >= r:\n",
    "            return p\n",
    "        upto += w\n",
    "    assert False, \"Shouldn't get here\""
   ]
  },
  {
   "cell_type": "code",
   "execution_count": 326,
   "metadata": {
    "collapsed": false
   },
   "outputs": [],
   "source": [
    "LANDMARKS = {\n",
    "    0: (5,5),\n",
    "    1: (3,3),\n",
    "    2: (7,3),\n",
    "    3: (3,7),\n",
    "    4: (7,7),\n",
    "    5: (10,10),\n",
    "    6: (0,0),\n",
    "    7: (0,10),\n",
    "    8: (10,0)\n",
    "}\n",
    "MAP = Map(10,10,LANDMARKS)\n",
    "\n",
    "def test_particle_filter(world_map):\n",
    "    robot = Robot(0,2,2)\n",
    "    pf = ParticleFilter(world_map)\n",
    "    pf.initialize(robot.orientation, robot.x, robot.y)\n",
    "    for i in range(50):\n",
    "        update_simulation(world_map, robot, pf)\n",
    "        \n",
    "def update_simulation(world_map, robot, pf):\n",
    "    observations = robot.sense(world_map)\n",
    "    pf.sense(observations)\n",
    "    \n",
    "    motion = (0.3 , pi*2 / 16.0)\n",
    "    noise = (0.0, 0.0)\n",
    "    robot.move(motion, noise, world_map)\n",
    "    pf.move(motion)\n",
    "    \n",
    "    best_particle = pf.best_guess()\n",
    "    print \"robot: {}, {}\".format(robot.x, robot.y)\n",
    "    print \"part:  {}, {}\".format(best_particle.x, best_particle.y)\n",
    "    print"
   ]
  },
  {
   "cell_type": "code",
   "execution_count": 327,
   "metadata": {
    "collapsed": false
   },
   "outputs": [],
   "source": [
    "start = (0,3,3)\n",
    "robot = Robot(*start)\n",
    "pf = ParticleFilter(MAP)\n",
    "pf.initialize(*start)\n",
    "pf.show(robot)"
   ]
  },
  {
   "cell_type": "code",
   "execution_count": 329,
   "metadata": {
    "collapsed": false
   },
   "outputs": [
    {
     "name": "stdout",
     "output_type": "stream",
     "text": [
      "totalweight before: 4.33156409077\n",
      "normalization factor: 0.00433156409077\n",
      "totalweight before: 4.01082702281e+67\n"
     ]
    }
   ],
   "source": [
    "motion = (pi*2 / 20, 0.5)\n",
    "noise = (0,0)\n",
    "robot.move(motion,noise, MAP)\n",
    "pf.move(motion)\n",
    "pf.show(robot)\n",
    "observations = robot.sense(MAP)\n",
    "pf.sense(observations)\n",
    "pf.show(robot)"
   ]
  },
  {
   "cell_type": "code",
   "execution_count": 302,
   "metadata": {
    "collapsed": false
   },
   "outputs": [
    {
     "data": {
      "text/plain": [
       "7.101690897299372e+37"
      ]
     },
     "execution_count": 302,
     "metadata": {},
     "output_type": "execute_result"
    }
   ],
   "source": [
    "sum(p.weight for p in pf.particles)"
   ]
  },
  {
   "cell_type": "code",
   "execution_count": 301,
   "metadata": {
    "collapsed": true
   },
   "outputs": [],
   "source": [
    "pf._normalize()"
   ]
  },
  {
   "cell_type": "code",
   "execution_count": 303,
   "metadata": {
    "collapsed": false
   },
   "outputs": [
    {
     "data": {
      "text/plain": [
       "\n",
       "x:      3.32158841836\n",
       "y:      3.05383756031\n",
       "theta:  0.605098639153\n",
       "weight: 1.1803391992e+36"
      ]
     },
     "execution_count": 303,
     "metadata": {},
     "output_type": "execute_result"
    }
   ],
   "source": [
    "weighted_choice(pf.particles)"
   ]
  },
  {
   "cell_type": "code",
   "execution_count": 304,
   "metadata": {
    "collapsed": false
   },
   "outputs": [
    {
     "data": {
      "text/plain": [
       "\n",
       "x:      3.81287284604\n",
       "y:      3.77276981639\n",
       "theta:  0.50242161025\n",
       "weight: 1.4456207149"
      ]
     },
     "execution_count": 304,
     "metadata": {},
     "output_type": "execute_result"
    }
   ],
   "source": [
    "min(pf.particles, key=lambda p: p.weight)"
   ]
  },
  {
   "cell_type": "code",
   "execution_count": 322,
   "metadata": {
    "collapsed": true
   },
   "outputs": [],
   "source": [
    "plt.hist(ALL_MULTS, 200)\n",
    "plt.show()"
   ]
  },
  {
   "cell_type": "code",
   "execution_count": null,
   "metadata": {
    "collapsed": true
   },
   "outputs": [],
   "source": []
  }
 ],
 "metadata": {
  "kernelspec": {
   "display_name": "Python 2",
   "language": "python",
   "name": "python2"
  },
  "language_info": {
   "codemirror_mode": {
    "name": "ipython",
    "version": 2
   },
   "file_extension": ".py",
   "mimetype": "text/x-python",
   "name": "python",
   "nbconvert_exporter": "python",
   "pygments_lexer": "ipython2",
   "version": "2.7.10"
  }
 },
 "nbformat": 4,
 "nbformat_minor": 0
}
